{
 "cells": [
  {
   "cell_type": "markdown",
   "metadata": {},
   "source": [
    "# Houzz Data Challenge"
   ]
  },
  {
   "cell_type": "markdown",
   "metadata": {},
   "source": [
    "### Data Preprocessing"
   ]
  },
  {
   "cell_type": "code",
   "execution_count": 2,
   "metadata": {
    "collapsed": true
   },
   "outputs": [],
   "source": [
    "import pandas as pd"
   ]
  },
  {
   "cell_type": "code",
   "execution_count": 3,
   "metadata": {
    "collapsed": true
   },
   "outputs": [],
   "source": [
    "data = pd.read_csv('houzz_data_challenge_newsletters.csv')"
   ]
  },
  {
   "cell_type": "code",
   "execution_count": 16,
   "metadata": {
    "collapsed": false
   },
   "outputs": [
    {
     "data": {
      "text/html": [
       "<div>\n",
       "<style>\n",
       "    .dataframe thead tr:only-child th {\n",
       "        text-align: right;\n",
       "    }\n",
       "\n",
       "    .dataframe thead th {\n",
       "        text-align: left;\n",
       "    }\n",
       "\n",
       "    .dataframe tbody tr th {\n",
       "        vertical-align: top;\n",
       "    }\n",
       "</style>\n",
       "<table border=\"1\" class=\"dataframe\">\n",
       "  <thead>\n",
       "    <tr style=\"text-align: right;\">\n",
       "      <th></th>\n",
       "      <th>ts</th>\n",
       "      <th>nl_id</th>\n",
       "      <th>user_id</th>\n",
       "      <th>dt</th>\n",
       "      <th>hr</th>\n",
       "      <th>event_type</th>\n",
       "      <th>event_type_param</th>\n",
       "    </tr>\n",
       "  </thead>\n",
       "  <tbody>\n",
       "    <tr>\n",
       "      <th>0</th>\n",
       "      <td>1461110419</td>\n",
       "      <td>2853</td>\n",
       "      <td>4551</td>\n",
       "      <td>4/19/16</td>\n",
       "      <td>17</td>\n",
       "      <td>nlsent</td>\n",
       "      <td>0</td>\n",
       "    </tr>\n",
       "    <tr>\n",
       "      <th>1</th>\n",
       "      <td>1461715220</td>\n",
       "      <td>2885</td>\n",
       "      <td>4551</td>\n",
       "      <td>4/26/16</td>\n",
       "      <td>17</td>\n",
       "      <td>nlsent</td>\n",
       "      <td>0</td>\n",
       "    </tr>\n",
       "    <tr>\n",
       "      <th>2</th>\n",
       "      <td>1461456022</td>\n",
       "      <td>2873</td>\n",
       "      <td>4551</td>\n",
       "      <td>4/23/16</td>\n",
       "      <td>17</td>\n",
       "      <td>nlsent</td>\n",
       "      <td>0</td>\n",
       "    </tr>\n",
       "    <tr>\n",
       "      <th>3</th>\n",
       "      <td>1461110419</td>\n",
       "      <td>2853</td>\n",
       "      <td>6159</td>\n",
       "      <td>4/19/16</td>\n",
       "      <td>17</td>\n",
       "      <td>nlsent</td>\n",
       "      <td>0</td>\n",
       "    </tr>\n",
       "    <tr>\n",
       "      <th>4</th>\n",
       "      <td>1461715220</td>\n",
       "      <td>2885</td>\n",
       "      <td>6159</td>\n",
       "      <td>4/26/16</td>\n",
       "      <td>17</td>\n",
       "      <td>nlsent</td>\n",
       "      <td>0</td>\n",
       "    </tr>\n",
       "  </tbody>\n",
       "</table>\n",
       "</div>"
      ],
      "text/plain": [
       "           ts  nl_id  user_id       dt  hr event_type event_type_param\n",
       "0  1461110419   2853     4551  4/19/16  17     nlsent                0\n",
       "1  1461715220   2885     4551  4/26/16  17     nlsent                0\n",
       "2  1461456022   2873     4551  4/23/16  17     nlsent                0\n",
       "3  1461110419   2853     6159  4/19/16  17     nlsent                0\n",
       "4  1461715220   2885     6159  4/26/16  17     nlsent                0"
      ]
     },
     "execution_count": 16,
     "metadata": {},
     "output_type": "execute_result"
    }
   ],
   "source": [
    "data.head()"
   ]
  },
  {
   "cell_type": "code",
   "execution_count": 17,
   "metadata": {
    "collapsed": false
   },
   "outputs": [
    {
     "data": {
      "text/plain": [
       "ts                  0\n",
       "nl_id               0\n",
       "user_id             0\n",
       "dt                  0\n",
       "hr                  0\n",
       "event_type          0\n",
       "event_type_param    0\n",
       "dtype: int64"
      ]
     },
     "execution_count": 17,
     "metadata": {},
     "output_type": "execute_result"
    }
   ],
   "source": [
    "data.isnull().sum()"
   ]
  },
  {
   "cell_type": "code",
   "execution_count": 20,
   "metadata": {
    "collapsed": false
   },
   "outputs": [
    {
     "name": "stdout",
     "output_type": "stream",
     "text": [
      "<class 'pandas.core.frame.DataFrame'>\n",
      "RangeIndex: 164071 entries, 0 to 164070\n",
      "Data columns (total 7 columns):\n",
      "ts                  164071 non-null int64\n",
      "nl_id               164071 non-null int64\n",
      "user_id             164071 non-null int64\n",
      "dt                  164071 non-null object\n",
      "hr                  164071 non-null int64\n",
      "event_type          164071 non-null object\n",
      "event_type_param    164071 non-null object\n",
      "dtypes: int64(4), object(3)\n",
      "memory usage: 8.8+ MB\n"
     ]
    }
   ],
   "source": [
    "data.info()"
   ]
  },
  {
   "cell_type": "code",
   "execution_count": 21,
   "metadata": {
    "collapsed": false
   },
   "outputs": [
    {
     "data": {
      "text/plain": [
       "0      127176\n",
       "pv2     32554\n",
       "g0       1423\n",
       "g1        817\n",
       "g3        620\n",
       "g2        530\n",
       "g4        359\n",
       "g7        226\n",
       "g6        219\n",
       "g5        147\n",
       "Name: event_type_param, dtype: int64"
      ]
     },
     "execution_count": 21,
     "metadata": {},
     "output_type": "execute_result"
    }
   ],
   "source": [
    "data.event_type_param.value_counts()"
   ]
  },
  {
   "cell_type": "code",
   "execution_count": 22,
   "metadata": {
    "collapsed": false,
    "scrolled": true
   },
   "outputs": [
    {
     "data": {
      "text/plain": [
       "4/26/16    37287\n",
       "4/30/16    36198\n",
       "4/19/16    35307\n",
       "4/23/16    35211\n",
       "4/24/16     7142\n",
       "4/27/16     5176\n",
       "4/20/16     3722\n",
       "4/25/16     1825\n",
       "4/28/16     1036\n",
       "4/21/16      514\n",
       "4/29/16      427\n",
       "4/22/16      226\n",
       "Name: dt, dtype: int64"
      ]
     },
     "execution_count": 22,
     "metadata": {},
     "output_type": "execute_result"
    }
   ],
   "source": [
    "data.dt.value_counts()"
   ]
  },
  {
   "cell_type": "code",
   "execution_count": 23,
   "metadata": {
    "collapsed": false
   },
   "outputs": [
    {
     "data": {
      "text/plain": [
       "32507"
      ]
     },
     "execution_count": 23,
     "metadata": {},
     "output_type": "execute_result"
    }
   ],
   "source": [
    "len(data.user_id.unique())"
   ]
  },
  {
   "cell_type": "code",
   "execution_count": 4,
   "metadata": {
    "collapsed": false
   },
   "outputs": [
    {
     "name": "stdout",
     "output_type": "stream",
     "text": [
      "           ts  nl_id  user_id       dt  hr event_type event_type_param\n",
      "0  1461110419   2853     4551  4/19/16  17     nlsent                0\n",
      "1  1461715220   2885     4551  4/26/16  17     nlsent                0\n",
      "2  1461456022   2873     4551  4/23/16  17     nlsent                0\n",
      "3  1461110419   2853     6159  4/19/16  17     nlsent                0\n",
      "4  1461715220   2885     6159  4/26/16  17     nlsent                0\n"
     ]
    }
   ],
   "source": [
    "from pandasql import sqldf\n",
    "pysqldf = lambda q: sqldf(q, globals())\n",
    "print pysqldf(\"SELECT * FROM data LIMIT 5;\")"
   ]
  },
  {
   "cell_type": "markdown",
   "metadata": {},
   "source": [
    "#### Have a baisic look at dataset"
   ]
  },
  {
   "cell_type": "code",
   "execution_count": 49,
   "metadata": {
    "collapsed": false
   },
   "outputs": [
    {
     "name": "stdout",
     "output_type": "stream",
     "text": [
      "    nl_id  user_id event_type\n",
      "0    2853     4551     nlsent\n",
      "1    2853     6159     nlsent\n",
      "2    2853    19903     nlsent\n",
      "3    2853    25495     nlsent\n",
      "4    2853    25495       nlpv\n",
      "5    2853    37157     nlsent\n",
      "6    2853    48910     nlsent\n",
      "7    2853    48910       nlpv\n",
      "8    2853    51765     nlsent\n",
      "9    2853    54209     nlsent\n",
      "10   2853    54209       nlpv\n",
      "11   2853    76822     nlsent\n",
      "12   2853    79377     nlsent\n",
      "13   2853    79752     nlsent\n",
      "14   2853    80361     nlsent\n"
     ]
    }
   ],
   "source": [
    "q = \"\"\"\n",
    "    SELECT\n",
    "        nl_id,\n",
    "        user_id,\n",
    "        event_type\n",
    "    FROM \n",
    "        data\n",
    "    ORDER BY \n",
    "        nl_id ASC,\n",
    "        user_id ASC,\n",
    "        event_type DESC;\n",
    "\"\"\"\n",
    "\n",
    "data1 = pysqldf(q)\n",
    "\n",
    "print data1.head(15)"
   ]
  },
  {
   "cell_type": "markdown",
   "metadata": {},
   "source": [
    "#### We have 4 cases now: only sent; only view; sent+view; sent+click"
   ]
  },
  {
   "cell_type": "markdown",
   "metadata": {},
   "source": [
    "#### Find out newsletter ID and user IDs where event type = sent and click, but no open"
   ]
  },
  {
   "cell_type": "code",
   "execution_count": 110,
   "metadata": {
    "collapsed": false
   },
   "outputs": [
    {
     "name": "stdout",
     "output_type": "stream",
     "text": [
      "    nl_id   user_id       dt  hr event_type event_type event_type_param\n",
      "0    2873    378136  4/26/16  11       nlpv       None              pv2\n",
      "1    2853    469746  4/20/16  10       nlpv       None              pv2\n",
      "2    2853    469746  4/20/16  10       nlpv       None              pv2\n",
      "3    2873    469746  4/24/16  20       nlpv       None              pv2\n",
      "4    2853    469746  4/19/16  19       nlpv       None              pv2\n",
      "5    2885    469746  4/26/16  15       nlpv       None              pv2\n",
      "6    2873    469746  4/24/16   6       nlpv       None              pv2\n",
      "7    2853    469746  4/19/16  15       nlpv       None              pv2\n",
      "8    2873    469746  4/23/16  15       nlpv       None              pv2\n",
      "9    2885    469746  4/26/16  19       nlpv       None              pv2\n",
      "10   2873   8546143  4/26/16  11       nlpv       None              pv2\n",
      "11   2885  25098452  4/28/16   1       nlpv       None              pv2\n",
      "12   2853  25098452  4/20/16   9       nlpv       None              pv2\n",
      "13   2853  25098452  4/20/16   9       nlpv       None              pv2\n",
      "14   2853  25098452  4/20/16   9       nlpv       None              pv2\n",
      "15   2853  25098452  4/20/16   9       nlpv       None              pv2\n",
      "16   2873  25098452  4/22/16  17       nlpv       None              pv2\n",
      "17   2873  25098452  4/22/16  17       nlpv       None              pv2\n"
     ]
    }
   ],
   "source": [
    "q = \"\"\"\n",
    "    SELECT \n",
    "        a.nl_id,\n",
    "        a.user_id,\n",
    "        a.dt,\n",
    "        a.hr,\n",
    "        a.event_type,\n",
    "        b.event_type,\n",
    "        a.event_type_param\n",
    "    FROM \n",
    "        (select * from data where event_type = 'nlpv') a\n",
    "    LEFT JOIN\n",
    "        (select * from data where event_type = 'nlsent') b\n",
    "            on a.nl_id=b.nl_id and a.user_id=b.user_id \n",
    "    WHERE\n",
    "        b.nl_id IS NULL or\n",
    "        b.user_id IS NULL;\n",
    "    \"\"\"\n",
    "\n",
    "data11 = pysqldf(q)\n",
    "\n",
    "print data11.head(20)"
   ]
  },
  {
   "cell_type": "markdown",
   "metadata": {},
   "source": [
    "#### Find out newsletter ID and user IDs where event type = viewed ONLY"
   ]
  },
  {
   "cell_type": "code",
   "execution_count": 111,
   "metadata": {
    "collapsed": false
   },
   "outputs": [
    {
     "name": "stdout",
     "output_type": "stream",
     "text": [
      "   nl_id   user_id       dt  hr event_type event_type event_type_param\n",
      "0   2873    103862  4/23/16  21       nllc       None               g1\n",
      "1   2873   3455061  4/24/16   6       nllc       None               g1\n",
      "2   2912   4207545  4/30/16  21       nllc       None               g0\n",
      "3   2885   7743612  4/26/16  20       nllc       None               g2\n",
      "4   2885   8744303  4/26/16  19       nllc       None               g0\n",
      "5   2885   8744303  4/26/16  19       nllc       None               g0\n",
      "6   2912   9003529  4/30/16  21       nllc       None               g0\n",
      "7   2885  16342075  4/26/16  19       nllc       None               g1\n",
      "8   2885  16342075  4/26/16  19       nllc       None               g2\n",
      "9   2873  16342075  4/23/16  19       nllc       None               g2\n"
     ]
    }
   ],
   "source": [
    "q = \"\"\"\n",
    "    SELECT \n",
    "        a.nl_id,\n",
    "        a.user_id,\n",
    "        a.dt,\n",
    "        a.hr,\n",
    "        a.event_type,\n",
    "        b.event_type,\n",
    "        a.event_type_param\n",
    "    FROM \n",
    "        (select * from data where event_type = 'nllc') a\n",
    "    LEFT JOIN\n",
    "        (select * from data where event_type = 'nlpv') b\n",
    "            on a.nl_id=b.nl_id and a.user_id=b.user_id \n",
    "    WHERE\n",
    "        b.nl_id IS NULL or\n",
    "        b.user_id IS NULL;\n",
    "    \"\"\"\n",
    "\n",
    "data1 = pysqldf(q)\n",
    "\n",
    "print data1.head(10)"
   ]
  },
  {
   "cell_type": "code",
   "execution_count": 112,
   "metadata": {
    "collapsed": false
   },
   "outputs": [
    {
     "data": {
      "text/plain": [
       "(179, 7)"
      ]
     },
     "execution_count": 112,
     "metadata": {},
     "output_type": "execute_result"
    }
   ],
   "source": [
    "data1.shape"
   ]
  },
  {
   "cell_type": "code",
   "execution_count": 113,
   "metadata": {
    "collapsed": false
   },
   "outputs": [
    {
     "data": {
      "text/plain": [
       "(18, 7)"
      ]
     },
     "execution_count": 113,
     "metadata": {},
     "output_type": "execute_result"
    }
   ],
   "source": [
    "data11.shape"
   ]
  },
  {
   "cell_type": "code",
   "execution_count": 114,
   "metadata": {
    "collapsed": false
   },
   "outputs": [
    {
     "data": {
      "text/plain": [
       "(164071, 7)"
      ]
     },
     "execution_count": 114,
     "metadata": {},
     "output_type": "execute_result"
    }
   ],
   "source": [
    "data.shape"
   ]
  },
  {
   "cell_type": "markdown",
   "metadata": {},
   "source": [
    "#### Delete newsletter ID and user IDs where event type = sent and click, but no open"
   ]
  },
  {
   "cell_type": "code",
   "execution_count": 124,
   "metadata": {
    "collapsed": false
   },
   "outputs": [
    {
     "name": "stdout",
     "output_type": "stream",
     "text": [
      "           ts  nl_id  user_id       dt  hr event_type event_type_param\n",
      "0  1461110419   2853     4551  4/19/16  17     nlsent                0\n",
      "1  1461715220   2885     4551  4/26/16  17     nlsent                0\n",
      "2  1461456022   2873     4551  4/23/16  17     nlsent                0\n",
      "3  1461110419   2853     6159  4/19/16  17     nlsent                0\n",
      "4  1461715220   2885     6159  4/26/16  17     nlsent                0\n"
     ]
    }
   ],
   "source": [
    "q = \"\"\"\n",
    "    select\n",
    "        a.ts,\n",
    "        a.nl_id,\n",
    "        a.user_id,\n",
    "        a.dt,\n",
    "        a.hr,\n",
    "        a.event_type,\n",
    "        a.event_type_param\n",
    "    from \n",
    "        data a \n",
    "    left join\n",
    "        data11 b\n",
    "        on a.user_id=b.user_id and a.nl_id=b.nl_id\n",
    "    where \n",
    "        b.user_id is null or\n",
    "        b.nl_id is null\n",
    "    \"\"\"\n",
    "\n",
    "data2 = pysqldf(q)\n",
    "\n",
    "print data2.head()"
   ]
  },
  {
   "cell_type": "markdown",
   "metadata": {},
   "source": [
    "#### Delete newsletter ID and user IDs where event type = viewed ONLY"
   ]
  },
  {
   "cell_type": "code",
   "execution_count": 126,
   "metadata": {
    "collapsed": false
   },
   "outputs": [
    {
     "name": "stdout",
     "output_type": "stream",
     "text": [
      "           ts  nl_id  user_id       dt  hr event_type event_type_param\n",
      "0  1461110419   2853     4551  4/19/16  17     nlsent                0\n",
      "1  1461715220   2885     4551  4/26/16  17     nlsent                0\n",
      "2  1461456022   2873     4551  4/23/16  17     nlsent                0\n",
      "3  1461110419   2853     6159  4/19/16  17     nlsent                0\n",
      "4  1461715220   2885     6159  4/26/16  17     nlsent                0\n"
     ]
    }
   ],
   "source": [
    "q = \"\"\"\n",
    "    select\n",
    "        a.ts,\n",
    "        a.nl_id,\n",
    "        a.user_id,\n",
    "        a.dt,\n",
    "        a.hr,\n",
    "        a.event_type,\n",
    "        a.event_type_param\n",
    "    from \n",
    "        data a \n",
    "    left join\n",
    "        data1 b\n",
    "        on a.user_id=b.user_id and a.nl_id=b.nl_id\n",
    "    where \n",
    "        b.user_id is null or\n",
    "        b.nl_id is null\n",
    "    \"\"\"\n",
    "\n",
    "data2 = pysqldf(q)\n",
    "\n",
    "print data2.head()"
   ]
  },
  {
   "cell_type": "code",
   "execution_count": 127,
   "metadata": {
    "collapsed": false
   },
   "outputs": [
    {
     "data": {
      "text/plain": [
       "(163771, 7)"
      ]
     },
     "execution_count": 127,
     "metadata": {},
     "output_type": "execute_result"
    }
   ],
   "source": [
    "data2.shape"
   ]
  },
  {
   "cell_type": "markdown",
   "metadata": {},
   "source": [
    "### 1.\tHow many newsletters were sent vs. opened for nl_id 2885 and 2912? What’s the overall open rate for each newsletter?\n",
    " "
   ]
  },
  {
   "cell_type": "markdown",
   "metadata": {},
   "source": [
    "#### After filetering out the table, we only have two cases now: only sent & sent+view"
   ]
  },
  {
   "cell_type": "code",
   "execution_count": 59,
   "metadata": {
    "collapsed": false
   },
   "outputs": [
    {
     "data": {
      "text/html": [
       "<div>\n",
       "<style>\n",
       "    .dataframe thead tr:only-child th {\n",
       "        text-align: right;\n",
       "    }\n",
       "\n",
       "    .dataframe thead th {\n",
       "        text-align: left;\n",
       "    }\n",
       "\n",
       "    .dataframe tbody tr th {\n",
       "        vertical-align: top;\n",
       "    }\n",
       "</style>\n",
       "<table border=\"1\" class=\"dataframe\">\n",
       "  <thead>\n",
       "    <tr style=\"text-align: right;\">\n",
       "      <th></th>\n",
       "      <th>ts</th>\n",
       "      <th>nl_id</th>\n",
       "      <th>user_id</th>\n",
       "      <th>dt</th>\n",
       "      <th>hr</th>\n",
       "      <th>event_type</th>\n",
       "      <th>event_type_param</th>\n",
       "    </tr>\n",
       "  </thead>\n",
       "  <tbody>\n",
       "    <tr>\n",
       "      <th>0</th>\n",
       "      <td>1461110419</td>\n",
       "      <td>2853</td>\n",
       "      <td>4551</td>\n",
       "      <td>4/19/16</td>\n",
       "      <td>17</td>\n",
       "      <td>nlsent</td>\n",
       "      <td>0</td>\n",
       "    </tr>\n",
       "    <tr>\n",
       "      <th>1</th>\n",
       "      <td>1461715220</td>\n",
       "      <td>2885</td>\n",
       "      <td>4551</td>\n",
       "      <td>4/26/16</td>\n",
       "      <td>17</td>\n",
       "      <td>nlsent</td>\n",
       "      <td>0</td>\n",
       "    </tr>\n",
       "    <tr>\n",
       "      <th>2</th>\n",
       "      <td>1461456022</td>\n",
       "      <td>2873</td>\n",
       "      <td>4551</td>\n",
       "      <td>4/23/16</td>\n",
       "      <td>17</td>\n",
       "      <td>nlsent</td>\n",
       "      <td>0</td>\n",
       "    </tr>\n",
       "    <tr>\n",
       "      <th>3</th>\n",
       "      <td>1461110419</td>\n",
       "      <td>2853</td>\n",
       "      <td>6159</td>\n",
       "      <td>4/19/16</td>\n",
       "      <td>17</td>\n",
       "      <td>nlsent</td>\n",
       "      <td>0</td>\n",
       "    </tr>\n",
       "    <tr>\n",
       "      <th>4</th>\n",
       "      <td>1461715220</td>\n",
       "      <td>2885</td>\n",
       "      <td>6159</td>\n",
       "      <td>4/26/16</td>\n",
       "      <td>17</td>\n",
       "      <td>nlsent</td>\n",
       "      <td>0</td>\n",
       "    </tr>\n",
       "  </tbody>\n",
       "</table>\n",
       "</div>"
      ],
      "text/plain": [
       "           ts  nl_id  user_id       dt  hr event_type event_type_param\n",
       "0  1461110419   2853     4551  4/19/16  17     nlsent                0\n",
       "1  1461715220   2885     4551  4/26/16  17     nlsent                0\n",
       "2  1461456022   2873     4551  4/23/16  17     nlsent                0\n",
       "3  1461110419   2853     6159  4/19/16  17     nlsent                0\n",
       "4  1461715220   2885     6159  4/26/16  17     nlsent                0"
      ]
     },
     "execution_count": 59,
     "metadata": {},
     "output_type": "execute_result"
    }
   ],
   "source": [
    "data2.head()"
   ]
  },
  {
   "cell_type": "markdown",
   "metadata": {},
   "source": [
    "#### Overall open rate for each newsletter"
   ]
  },
  {
   "cell_type": "code",
   "execution_count": 60,
   "metadata": {
    "collapsed": false
   },
   "outputs": [
    {
     "name": "stdout",
     "output_type": "stream",
     "text": [
      "   nl_id  received  open\n",
      "0   2853     31401  6171\n",
      "1   2873     31610  6532\n",
      "2   2885     31866  5940\n",
      "3   2912     32178  2228\n"
     ]
    }
   ],
   "source": [
    "q = '''\n",
    "    select\n",
    "        nl_id,\n",
    "        count(distinct(case when event_type='nlsent' then user_id end)) as received,\n",
    "        count(distinct(case when event_type='nlpv' then user_id end)) as open\n",
    "    from \n",
    "        data2\n",
    "    group by\n",
    "        nl_id;\n",
    "    '''\n",
    "\n",
    "data0 = pysqldf(q)\n",
    "\n",
    "print data0.head()"
   ]
  },
  {
   "cell_type": "code",
   "execution_count": 137,
   "metadata": {
    "collapsed": false
   },
   "outputs": [],
   "source": [
    "data0['open_rate'] = data0.open / data0.received "
   ]
  },
  {
   "cell_type": "code",
   "execution_count": 143,
   "metadata": {
    "collapsed": false
   },
   "outputs": [
    {
     "name": "stdout",
     "output_type": "stream",
     "text": [
      "The open rate for newsletter 2853.0 is: 19.65%\n",
      "The open rate for newsletter 2873.0 is: 20.66%\n",
      "The open rate for newsletter 2885.0 is: 18.64%\n",
      "The open rate for newsletter 2912.0 is: 6.92%\n"
     ]
    }
   ],
   "source": [
    "for i in range(len(data0)):\n",
    "    print ('The open rate for newsletter {0} is: {1:.2%}'.format(data0.loc[i].nl_id,data0.loc[i].open_rate))"
   ]
  },
  {
   "cell_type": "markdown",
   "metadata": {},
   "source": [
    "<br>"
   ]
  },
  {
   "cell_type": "markdown",
   "metadata": {},
   "source": [
    "### 2. What % of users opened the email within 1, 2, 3, 4, 5, 6, 7 days? Visualize the results for each newsletter. Which newsletter has the best open_rate?\n"
   ]
  },
  {
   "cell_type": "code",
   "execution_count": 145,
   "metadata": {
    "collapsed": true
   },
   "outputs": [],
   "source": [
    "data2.to_csv('data2.csv',sep=',',index=False)"
   ]
  },
  {
   "cell_type": "code",
   "execution_count": 58,
   "metadata": {
    "collapsed": true
   },
   "outputs": [],
   "source": [
    "data2 = pd.read_csv('data2.csv')"
   ]
  },
  {
   "cell_type": "code",
   "execution_count": 6,
   "metadata": {
    "collapsed": false
   },
   "outputs": [
    {
     "data": {
      "text/html": [
       "<div>\n",
       "<style>\n",
       "    .dataframe thead tr:only-child th {\n",
       "        text-align: right;\n",
       "    }\n",
       "\n",
       "    .dataframe thead th {\n",
       "        text-align: left;\n",
       "    }\n",
       "\n",
       "    .dataframe tbody tr th {\n",
       "        vertical-align: top;\n",
       "    }\n",
       "</style>\n",
       "<table border=\"1\" class=\"dataframe\">\n",
       "  <thead>\n",
       "    <tr style=\"text-align: right;\">\n",
       "      <th></th>\n",
       "      <th>ts</th>\n",
       "      <th>nl_id</th>\n",
       "      <th>user_id</th>\n",
       "      <th>dt</th>\n",
       "      <th>hr</th>\n",
       "      <th>event_type</th>\n",
       "      <th>event_type_param</th>\n",
       "    </tr>\n",
       "  </thead>\n",
       "  <tbody>\n",
       "    <tr>\n",
       "      <th>0</th>\n",
       "      <td>1461110419</td>\n",
       "      <td>2853</td>\n",
       "      <td>4551</td>\n",
       "      <td>4/19/16</td>\n",
       "      <td>17</td>\n",
       "      <td>nlsent</td>\n",
       "      <td>0</td>\n",
       "    </tr>\n",
       "    <tr>\n",
       "      <th>1</th>\n",
       "      <td>1461715220</td>\n",
       "      <td>2885</td>\n",
       "      <td>4551</td>\n",
       "      <td>4/26/16</td>\n",
       "      <td>17</td>\n",
       "      <td>nlsent</td>\n",
       "      <td>0</td>\n",
       "    </tr>\n",
       "    <tr>\n",
       "      <th>2</th>\n",
       "      <td>1461456022</td>\n",
       "      <td>2873</td>\n",
       "      <td>4551</td>\n",
       "      <td>4/23/16</td>\n",
       "      <td>17</td>\n",
       "      <td>nlsent</td>\n",
       "      <td>0</td>\n",
       "    </tr>\n",
       "    <tr>\n",
       "      <th>3</th>\n",
       "      <td>1461110419</td>\n",
       "      <td>2853</td>\n",
       "      <td>6159</td>\n",
       "      <td>4/19/16</td>\n",
       "      <td>17</td>\n",
       "      <td>nlsent</td>\n",
       "      <td>0</td>\n",
       "    </tr>\n",
       "    <tr>\n",
       "      <th>4</th>\n",
       "      <td>1461715220</td>\n",
       "      <td>2885</td>\n",
       "      <td>6159</td>\n",
       "      <td>4/26/16</td>\n",
       "      <td>17</td>\n",
       "      <td>nlsent</td>\n",
       "      <td>0</td>\n",
       "    </tr>\n",
       "  </tbody>\n",
       "</table>\n",
       "</div>"
      ],
      "text/plain": [
       "           ts  nl_id  user_id       dt  hr event_type event_type_param\n",
       "0  1461110419   2853     4551  4/19/16  17     nlsent                0\n",
       "1  1461715220   2885     4551  4/26/16  17     nlsent                0\n",
       "2  1461456022   2873     4551  4/23/16  17     nlsent                0\n",
       "3  1461110419   2853     6159  4/19/16  17     nlsent                0\n",
       "4  1461715220   2885     6159  4/26/16  17     nlsent                0"
      ]
     },
     "execution_count": 6,
     "metadata": {},
     "output_type": "execute_result"
    }
   ],
   "source": [
    "data2.head()"
   ]
  },
  {
   "cell_type": "code",
   "execution_count": 7,
   "metadata": {
    "collapsed": true
   },
   "outputs": [],
   "source": [
    "from datetime import datetime"
   ]
  },
  {
   "cell_type": "code",
   "execution_count": 8,
   "metadata": {
    "collapsed": false
   },
   "outputs": [],
   "source": [
    "q = '''\n",
    "    select\n",
    "        *\n",
    "    from \n",
    "        data2\n",
    "    order by\n",
    "        nl_id ASC,\n",
    "        user_id ASC,\n",
    "        event_type DESC;\n",
    "    '''\n",
    "\n",
    "data2 = pysqldf(q)"
   ]
  },
  {
   "cell_type": "code",
   "execution_count": 9,
   "metadata": {
    "collapsed": false
   },
   "outputs": [],
   "source": [
    "data2['date'] = data2['dt']+ '/' + data2['hr'].astype(str)"
   ]
  },
  {
   "cell_type": "code",
   "execution_count": 10,
   "metadata": {
    "collapsed": false
   },
   "outputs": [],
   "source": [
    "data2['date'] = pd.to_datetime(data2['date'],format='%m/%d/%y/%H')"
   ]
  },
  {
   "cell_type": "code",
   "execution_count": 11,
   "metadata": {
    "collapsed": false
   },
   "outputs": [
    {
     "data": {
      "text/html": [
       "<div>\n",
       "<style>\n",
       "    .dataframe thead tr:only-child th {\n",
       "        text-align: right;\n",
       "    }\n",
       "\n",
       "    .dataframe thead th {\n",
       "        text-align: left;\n",
       "    }\n",
       "\n",
       "    .dataframe tbody tr th {\n",
       "        vertical-align: top;\n",
       "    }\n",
       "</style>\n",
       "<table border=\"1\" class=\"dataframe\">\n",
       "  <thead>\n",
       "    <tr style=\"text-align: right;\">\n",
       "      <th></th>\n",
       "      <th>ts</th>\n",
       "      <th>nl_id</th>\n",
       "      <th>user_id</th>\n",
       "      <th>dt</th>\n",
       "      <th>hr</th>\n",
       "      <th>event_type</th>\n",
       "      <th>event_type_param</th>\n",
       "      <th>date</th>\n",
       "    </tr>\n",
       "  </thead>\n",
       "  <tbody>\n",
       "    <tr>\n",
       "      <th>0</th>\n",
       "      <td>1461110419</td>\n",
       "      <td>2853</td>\n",
       "      <td>4551</td>\n",
       "      <td>4/19/16</td>\n",
       "      <td>17</td>\n",
       "      <td>nlsent</td>\n",
       "      <td>0</td>\n",
       "      <td>2016-04-19 17:00:00</td>\n",
       "    </tr>\n",
       "    <tr>\n",
       "      <th>1</th>\n",
       "      <td>1461110419</td>\n",
       "      <td>2853</td>\n",
       "      <td>6159</td>\n",
       "      <td>4/19/16</td>\n",
       "      <td>17</td>\n",
       "      <td>nlsent</td>\n",
       "      <td>0</td>\n",
       "      <td>2016-04-19 17:00:00</td>\n",
       "    </tr>\n",
       "    <tr>\n",
       "      <th>2</th>\n",
       "      <td>1461110419</td>\n",
       "      <td>2853</td>\n",
       "      <td>19903</td>\n",
       "      <td>4/19/16</td>\n",
       "      <td>17</td>\n",
       "      <td>nlsent</td>\n",
       "      <td>0</td>\n",
       "      <td>2016-04-19 17:00:00</td>\n",
       "    </tr>\n",
       "    <tr>\n",
       "      <th>3</th>\n",
       "      <td>1461110419</td>\n",
       "      <td>2853</td>\n",
       "      <td>25495</td>\n",
       "      <td>4/19/16</td>\n",
       "      <td>17</td>\n",
       "      <td>nlsent</td>\n",
       "      <td>0</td>\n",
       "      <td>2016-04-19 17:00:00</td>\n",
       "    </tr>\n",
       "    <tr>\n",
       "      <th>4</th>\n",
       "      <td>1461158990</td>\n",
       "      <td>2853</td>\n",
       "      <td>25495</td>\n",
       "      <td>4/20/16</td>\n",
       "      <td>6</td>\n",
       "      <td>nlpv</td>\n",
       "      <td>pv2</td>\n",
       "      <td>2016-04-20 06:00:00</td>\n",
       "    </tr>\n",
       "    <tr>\n",
       "      <th>5</th>\n",
       "      <td>1461110419</td>\n",
       "      <td>2853</td>\n",
       "      <td>37157</td>\n",
       "      <td>4/19/16</td>\n",
       "      <td>17</td>\n",
       "      <td>nlsent</td>\n",
       "      <td>0</td>\n",
       "      <td>2016-04-19 17:00:00</td>\n",
       "    </tr>\n",
       "    <tr>\n",
       "      <th>6</th>\n",
       "      <td>1461110419</td>\n",
       "      <td>2853</td>\n",
       "      <td>48910</td>\n",
       "      <td>4/19/16</td>\n",
       "      <td>17</td>\n",
       "      <td>nlsent</td>\n",
       "      <td>0</td>\n",
       "      <td>2016-04-19 17:00:00</td>\n",
       "    </tr>\n",
       "    <tr>\n",
       "      <th>7</th>\n",
       "      <td>1461122311</td>\n",
       "      <td>2853</td>\n",
       "      <td>48910</td>\n",
       "      <td>4/19/16</td>\n",
       "      <td>20</td>\n",
       "      <td>nlpv</td>\n",
       "      <td>pv2</td>\n",
       "      <td>2016-04-19 20:00:00</td>\n",
       "    </tr>\n",
       "    <tr>\n",
       "      <th>8</th>\n",
       "      <td>1461110419</td>\n",
       "      <td>2853</td>\n",
       "      <td>51765</td>\n",
       "      <td>4/19/16</td>\n",
       "      <td>17</td>\n",
       "      <td>nlsent</td>\n",
       "      <td>0</td>\n",
       "      <td>2016-04-19 17:00:00</td>\n",
       "    </tr>\n",
       "    <tr>\n",
       "      <th>9</th>\n",
       "      <td>1461110419</td>\n",
       "      <td>2853</td>\n",
       "      <td>54209</td>\n",
       "      <td>4/19/16</td>\n",
       "      <td>17</td>\n",
       "      <td>nlsent</td>\n",
       "      <td>0</td>\n",
       "      <td>2016-04-19 17:00:00</td>\n",
       "    </tr>\n",
       "  </tbody>\n",
       "</table>\n",
       "</div>"
      ],
      "text/plain": [
       "           ts  nl_id  user_id       dt  hr event_type event_type_param  \\\n",
       "0  1461110419   2853     4551  4/19/16  17     nlsent                0   \n",
       "1  1461110419   2853     6159  4/19/16  17     nlsent                0   \n",
       "2  1461110419   2853    19903  4/19/16  17     nlsent                0   \n",
       "3  1461110419   2853    25495  4/19/16  17     nlsent                0   \n",
       "4  1461158990   2853    25495  4/20/16   6       nlpv              pv2   \n",
       "5  1461110419   2853    37157  4/19/16  17     nlsent                0   \n",
       "6  1461110419   2853    48910  4/19/16  17     nlsent                0   \n",
       "7  1461122311   2853    48910  4/19/16  20       nlpv              pv2   \n",
       "8  1461110419   2853    51765  4/19/16  17     nlsent                0   \n",
       "9  1461110419   2853    54209  4/19/16  17     nlsent                0   \n",
       "\n",
       "                 date  \n",
       "0 2016-04-19 17:00:00  \n",
       "1 2016-04-19 17:00:00  \n",
       "2 2016-04-19 17:00:00  \n",
       "3 2016-04-19 17:00:00  \n",
       "4 2016-04-20 06:00:00  \n",
       "5 2016-04-19 17:00:00  \n",
       "6 2016-04-19 17:00:00  \n",
       "7 2016-04-19 20:00:00  \n",
       "8 2016-04-19 17:00:00  \n",
       "9 2016-04-19 17:00:00  "
      ]
     },
     "execution_count": 11,
     "metadata": {},
     "output_type": "execute_result"
    }
   ],
   "source": [
    "data2.head(10)"
   ]
  },
  {
   "cell_type": "code",
   "execution_count": 12,
   "metadata": {
    "collapsed": false
   },
   "outputs": [
    {
     "data": {
      "text/plain": [
       "0"
      ]
     },
     "execution_count": 12,
     "metadata": {},
     "output_type": "execute_result"
    }
   ],
   "source": [
    "(data2.date[4]-data2.date[3]).days"
   ]
  },
  {
   "cell_type": "code",
   "execution_count": 13,
   "metadata": {
    "collapsed": false
   },
   "outputs": [],
   "source": [
    "q = \"\"\"\n",
    "    select\n",
    "        a.ts,\n",
    "        a.nl_id,\n",
    "        a.user_id,\n",
    "        a.dt,\n",
    "        a.hr,\n",
    "        a.event_type,\n",
    "        a.event_type_param,\n",
    "        a.date\n",
    "    from \n",
    "        data2 a \n",
    "    inner join\n",
    "        (select * from data2 where event_type='nlpv') b\n",
    "        on a.user_id=b.user_id and a.nl_id=b.nl_id;\n",
    "    \"\"\"\n",
    "\n",
    "data20 = pysqldf(q)"
   ]
  },
  {
   "cell_type": "code",
   "execution_count": 14,
   "metadata": {
    "collapsed": false
   },
   "outputs": [
    {
     "data": {
      "text/html": [
       "<div>\n",
       "<style>\n",
       "    .dataframe thead tr:only-child th {\n",
       "        text-align: right;\n",
       "    }\n",
       "\n",
       "    .dataframe thead th {\n",
       "        text-align: left;\n",
       "    }\n",
       "\n",
       "    .dataframe tbody tr th {\n",
       "        vertical-align: top;\n",
       "    }\n",
       "</style>\n",
       "<table border=\"1\" class=\"dataframe\">\n",
       "  <thead>\n",
       "    <tr style=\"text-align: right;\">\n",
       "      <th></th>\n",
       "      <th>ts</th>\n",
       "      <th>nl_id</th>\n",
       "      <th>user_id</th>\n",
       "      <th>dt</th>\n",
       "      <th>hr</th>\n",
       "      <th>event_type</th>\n",
       "      <th>event_type_param</th>\n",
       "      <th>date</th>\n",
       "    </tr>\n",
       "  </thead>\n",
       "  <tbody>\n",
       "    <tr>\n",
       "      <th>0</th>\n",
       "      <td>1461110419</td>\n",
       "      <td>2853</td>\n",
       "      <td>25495</td>\n",
       "      <td>4/19/16</td>\n",
       "      <td>17</td>\n",
       "      <td>nlsent</td>\n",
       "      <td>0</td>\n",
       "      <td>2016-04-19 17:00:00.000000</td>\n",
       "    </tr>\n",
       "    <tr>\n",
       "      <th>1</th>\n",
       "      <td>1461158990</td>\n",
       "      <td>2853</td>\n",
       "      <td>25495</td>\n",
       "      <td>4/20/16</td>\n",
       "      <td>6</td>\n",
       "      <td>nlpv</td>\n",
       "      <td>pv2</td>\n",
       "      <td>2016-04-20 06:00:00.000000</td>\n",
       "    </tr>\n",
       "    <tr>\n",
       "      <th>2</th>\n",
       "      <td>1461110419</td>\n",
       "      <td>2853</td>\n",
       "      <td>48910</td>\n",
       "      <td>4/19/16</td>\n",
       "      <td>17</td>\n",
       "      <td>nlsent</td>\n",
       "      <td>0</td>\n",
       "      <td>2016-04-19 17:00:00.000000</td>\n",
       "    </tr>\n",
       "    <tr>\n",
       "      <th>3</th>\n",
       "      <td>1461122311</td>\n",
       "      <td>2853</td>\n",
       "      <td>48910</td>\n",
       "      <td>4/19/16</td>\n",
       "      <td>20</td>\n",
       "      <td>nlpv</td>\n",
       "      <td>pv2</td>\n",
       "      <td>2016-04-19 20:00:00.000000</td>\n",
       "    </tr>\n",
       "    <tr>\n",
       "      <th>4</th>\n",
       "      <td>1461110419</td>\n",
       "      <td>2853</td>\n",
       "      <td>54209</td>\n",
       "      <td>4/19/16</td>\n",
       "      <td>17</td>\n",
       "      <td>nlsent</td>\n",
       "      <td>0</td>\n",
       "      <td>2016-04-19 17:00:00.000000</td>\n",
       "    </tr>\n",
       "  </tbody>\n",
       "</table>\n",
       "</div>"
      ],
      "text/plain": [
       "           ts  nl_id  user_id       dt  hr event_type event_type_param  \\\n",
       "0  1461110419   2853    25495  4/19/16  17     nlsent                0   \n",
       "1  1461158990   2853    25495  4/20/16   6       nlpv              pv2   \n",
       "2  1461110419   2853    48910  4/19/16  17     nlsent                0   \n",
       "3  1461122311   2853    48910  4/19/16  20       nlpv              pv2   \n",
       "4  1461110419   2853    54209  4/19/16  17     nlsent                0   \n",
       "\n",
       "                         date  \n",
       "0  2016-04-19 17:00:00.000000  \n",
       "1  2016-04-20 06:00:00.000000  \n",
       "2  2016-04-19 17:00:00.000000  \n",
       "3  2016-04-19 20:00:00.000000  \n",
       "4  2016-04-19 17:00:00.000000  "
      ]
     },
     "execution_count": 14,
     "metadata": {},
     "output_type": "execute_result"
    }
   ],
   "source": [
    "data20.head()"
   ]
  },
  {
   "cell_type": "code",
   "execution_count": 15,
   "metadata": {
    "collapsed": true
   },
   "outputs": [],
   "source": [
    "q = \"\"\"\n",
    "    select\n",
    "        a.nl_id,\n",
    "        a.user_id,\n",
    "        a.date as sent_date,\n",
    "        b.date as open_date\n",
    "    from \n",
    "        (select * from data20 where event_type='nlsent') a \n",
    "    inner join\n",
    "        (select * from data20 where event_type='nlpv') b\n",
    "        on a.user_id=b.user_id and a.nl_id=b.nl_id;\n",
    "    \"\"\"\n",
    "\n",
    "data21 = pysqldf(q)"
   ]
  },
  {
   "cell_type": "code",
   "execution_count": 16,
   "metadata": {
    "collapsed": false
   },
   "outputs": [
    {
     "data": {
      "text/html": [
       "<div>\n",
       "<style>\n",
       "    .dataframe thead tr:only-child th {\n",
       "        text-align: right;\n",
       "    }\n",
       "\n",
       "    .dataframe thead th {\n",
       "        text-align: left;\n",
       "    }\n",
       "\n",
       "    .dataframe tbody tr th {\n",
       "        vertical-align: top;\n",
       "    }\n",
       "</style>\n",
       "<table border=\"1\" class=\"dataframe\">\n",
       "  <thead>\n",
       "    <tr style=\"text-align: right;\">\n",
       "      <th></th>\n",
       "      <th>nl_id</th>\n",
       "      <th>user_id</th>\n",
       "      <th>sent_date</th>\n",
       "      <th>open_date</th>\n",
       "    </tr>\n",
       "  </thead>\n",
       "  <tbody>\n",
       "    <tr>\n",
       "      <th>0</th>\n",
       "      <td>2853</td>\n",
       "      <td>25495</td>\n",
       "      <td>2016-04-19 17:00:00.000000</td>\n",
       "      <td>2016-04-20 06:00:00.000000</td>\n",
       "    </tr>\n",
       "    <tr>\n",
       "      <th>1</th>\n",
       "      <td>2853</td>\n",
       "      <td>48910</td>\n",
       "      <td>2016-04-19 17:00:00.000000</td>\n",
       "      <td>2016-04-19 20:00:00.000000</td>\n",
       "    </tr>\n",
       "    <tr>\n",
       "      <th>2</th>\n",
       "      <td>2853</td>\n",
       "      <td>54209</td>\n",
       "      <td>2016-04-19 17:00:00.000000</td>\n",
       "      <td>2016-04-20 04:00:00.000000</td>\n",
       "    </tr>\n",
       "    <tr>\n",
       "      <th>3</th>\n",
       "      <td>2853</td>\n",
       "      <td>95523</td>\n",
       "      <td>2016-04-19 17:00:00.000000</td>\n",
       "      <td>2016-04-23 05:00:00.000000</td>\n",
       "    </tr>\n",
       "    <tr>\n",
       "      <th>4</th>\n",
       "      <td>2853</td>\n",
       "      <td>134717</td>\n",
       "      <td>2016-04-19 17:00:00.000000</td>\n",
       "      <td>2016-04-21 10:00:00.000000</td>\n",
       "    </tr>\n",
       "    <tr>\n",
       "      <th>5</th>\n",
       "      <td>2853</td>\n",
       "      <td>164153</td>\n",
       "      <td>2016-04-19 17:00:00.000000</td>\n",
       "      <td>2016-04-19 22:00:00.000000</td>\n",
       "    </tr>\n",
       "    <tr>\n",
       "      <th>6</th>\n",
       "      <td>2853</td>\n",
       "      <td>170574</td>\n",
       "      <td>2016-04-19 17:00:00.000000</td>\n",
       "      <td>2016-04-19 22:00:00.000000</td>\n",
       "    </tr>\n",
       "    <tr>\n",
       "      <th>7</th>\n",
       "      <td>2853</td>\n",
       "      <td>173760</td>\n",
       "      <td>2016-04-19 17:00:00.000000</td>\n",
       "      <td>2016-04-19 19:00:00.000000</td>\n",
       "    </tr>\n",
       "    <tr>\n",
       "      <th>8</th>\n",
       "      <td>2853</td>\n",
       "      <td>177556</td>\n",
       "      <td>2016-04-19 17:00:00.000000</td>\n",
       "      <td>2016-04-19 23:00:00.000000</td>\n",
       "    </tr>\n",
       "    <tr>\n",
       "      <th>9</th>\n",
       "      <td>2853</td>\n",
       "      <td>208302</td>\n",
       "      <td>2016-04-19 17:00:00.000000</td>\n",
       "      <td>2016-04-20 13:00:00.000000</td>\n",
       "    </tr>\n",
       "  </tbody>\n",
       "</table>\n",
       "</div>"
      ],
      "text/plain": [
       "   nl_id  user_id                   sent_date                   open_date\n",
       "0   2853    25495  2016-04-19 17:00:00.000000  2016-04-20 06:00:00.000000\n",
       "1   2853    48910  2016-04-19 17:00:00.000000  2016-04-19 20:00:00.000000\n",
       "2   2853    54209  2016-04-19 17:00:00.000000  2016-04-20 04:00:00.000000\n",
       "3   2853    95523  2016-04-19 17:00:00.000000  2016-04-23 05:00:00.000000\n",
       "4   2853   134717  2016-04-19 17:00:00.000000  2016-04-21 10:00:00.000000\n",
       "5   2853   164153  2016-04-19 17:00:00.000000  2016-04-19 22:00:00.000000\n",
       "6   2853   170574  2016-04-19 17:00:00.000000  2016-04-19 22:00:00.000000\n",
       "7   2853   173760  2016-04-19 17:00:00.000000  2016-04-19 19:00:00.000000\n",
       "8   2853   177556  2016-04-19 17:00:00.000000  2016-04-19 23:00:00.000000\n",
       "9   2853   208302  2016-04-19 17:00:00.000000  2016-04-20 13:00:00.000000"
      ]
     },
     "execution_count": 16,
     "metadata": {},
     "output_type": "execute_result"
    }
   ],
   "source": [
    "data21.head(10)"
   ]
  },
  {
   "cell_type": "markdown",
   "metadata": {},
   "source": [
    "#### Pandasql can't do basic math calculation, this is annoying"
   ]
  },
  {
   "cell_type": "code",
   "execution_count": 17,
   "metadata": {
    "collapsed": true
   },
   "outputs": [],
   "source": [
    "q = '''\n",
    "    select\n",
    "        nl_id,\n",
    "        user_id,\n",
    "        sent_date,\n",
    "        min(open_date) as open_date\n",
    "    from \n",
    "        data21\n",
    "    group by\n",
    "        nl_id,\n",
    "        user_id\n",
    "    '''\n",
    "\n",
    "data22 = pysqldf(q)"
   ]
  },
  {
   "cell_type": "code",
   "execution_count": 28,
   "metadata": {
    "collapsed": false
   },
   "outputs": [
    {
     "data": {
      "text/html": [
       "<div>\n",
       "<style>\n",
       "    .dataframe thead tr:only-child th {\n",
       "        text-align: right;\n",
       "    }\n",
       "\n",
       "    .dataframe thead th {\n",
       "        text-align: left;\n",
       "    }\n",
       "\n",
       "    .dataframe tbody tr th {\n",
       "        vertical-align: top;\n",
       "    }\n",
       "</style>\n",
       "<table border=\"1\" class=\"dataframe\">\n",
       "  <thead>\n",
       "    <tr style=\"text-align: right;\">\n",
       "      <th></th>\n",
       "      <th>nl_id</th>\n",
       "      <th>user_id</th>\n",
       "      <th>sent_date</th>\n",
       "      <th>open_date</th>\n",
       "      <th>days</th>\n",
       "    </tr>\n",
       "  </thead>\n",
       "  <tbody>\n",
       "    <tr>\n",
       "      <th>0</th>\n",
       "      <td>2853</td>\n",
       "      <td>25495</td>\n",
       "      <td>2016-04-19 17:00:00</td>\n",
       "      <td>2016-04-20 06:00:00</td>\n",
       "      <td>0</td>\n",
       "    </tr>\n",
       "    <tr>\n",
       "      <th>1</th>\n",
       "      <td>2853</td>\n",
       "      <td>48910</td>\n",
       "      <td>2016-04-19 17:00:00</td>\n",
       "      <td>2016-04-19 20:00:00</td>\n",
       "      <td>0</td>\n",
       "    </tr>\n",
       "    <tr>\n",
       "      <th>2</th>\n",
       "      <td>2853</td>\n",
       "      <td>54209</td>\n",
       "      <td>2016-04-19 17:00:00</td>\n",
       "      <td>2016-04-20 04:00:00</td>\n",
       "      <td>0</td>\n",
       "    </tr>\n",
       "    <tr>\n",
       "      <th>3</th>\n",
       "      <td>2853</td>\n",
       "      <td>95523</td>\n",
       "      <td>2016-04-19 17:00:00</td>\n",
       "      <td>2016-04-23 05:00:00</td>\n",
       "      <td>3</td>\n",
       "    </tr>\n",
       "    <tr>\n",
       "      <th>4</th>\n",
       "      <td>2853</td>\n",
       "      <td>134717</td>\n",
       "      <td>2016-04-19 17:00:00</td>\n",
       "      <td>2016-04-21 10:00:00</td>\n",
       "      <td>1</td>\n",
       "    </tr>\n",
       "  </tbody>\n",
       "</table>\n",
       "</div>"
      ],
      "text/plain": [
       "   nl_id  user_id           sent_date           open_date  days\n",
       "0   2853    25495 2016-04-19 17:00:00 2016-04-20 06:00:00     0\n",
       "1   2853    48910 2016-04-19 17:00:00 2016-04-19 20:00:00     0\n",
       "2   2853    54209 2016-04-19 17:00:00 2016-04-20 04:00:00     0\n",
       "3   2853    95523 2016-04-19 17:00:00 2016-04-23 05:00:00     3\n",
       "4   2853   134717 2016-04-19 17:00:00 2016-04-21 10:00:00     1"
      ]
     },
     "execution_count": 28,
     "metadata": {},
     "output_type": "execute_result"
    }
   ],
   "source": [
    "data22.head()"
   ]
  },
  {
   "cell_type": "code",
   "execution_count": 19,
   "metadata": {
    "collapsed": false
   },
   "outputs": [],
   "source": [
    "data22['open_date'] = pd.to_datetime(data22['open_date'])\n",
    "data22['sent_date'] = pd.to_datetime(data22['sent_date'])"
   ]
  },
  {
   "cell_type": "code",
   "execution_count": 20,
   "metadata": {
    "collapsed": true
   },
   "outputs": [],
   "source": [
    "data22.to_csv('data22.csv',sep=',',index=False)"
   ]
  },
  {
   "cell_type": "code",
   "execution_count": 24,
   "metadata": {
    "collapsed": false
   },
   "outputs": [],
   "source": [
    "data22['days'] = (data22['open_date']- data22['sent_date']).dt.days"
   ]
  },
  {
   "cell_type": "code",
   "execution_count": 39,
   "metadata": {
    "collapsed": false
   },
   "outputs": [
    {
     "data": {
      "text/html": [
       "<div>\n",
       "<style>\n",
       "    .dataframe thead tr:only-child th {\n",
       "        text-align: right;\n",
       "    }\n",
       "\n",
       "    .dataframe thead th {\n",
       "        text-align: left;\n",
       "    }\n",
       "\n",
       "    .dataframe tbody tr th {\n",
       "        vertical-align: top;\n",
       "    }\n",
       "</style>\n",
       "<table border=\"1\" class=\"dataframe\">\n",
       "  <thead>\n",
       "    <tr style=\"text-align: right;\">\n",
       "      <th></th>\n",
       "      <th>nl_id</th>\n",
       "      <th>user_id</th>\n",
       "      <th>sent_date</th>\n",
       "      <th>open_date</th>\n",
       "      <th>days</th>\n",
       "    </tr>\n",
       "  </thead>\n",
       "  <tbody>\n",
       "    <tr>\n",
       "      <th>0</th>\n",
       "      <td>2853</td>\n",
       "      <td>25495</td>\n",
       "      <td>2016-04-19 17:00:00</td>\n",
       "      <td>2016-04-20 06:00:00</td>\n",
       "      <td>0</td>\n",
       "    </tr>\n",
       "    <tr>\n",
       "      <th>1</th>\n",
       "      <td>2853</td>\n",
       "      <td>48910</td>\n",
       "      <td>2016-04-19 17:00:00</td>\n",
       "      <td>2016-04-19 20:00:00</td>\n",
       "      <td>0</td>\n",
       "    </tr>\n",
       "    <tr>\n",
       "      <th>2</th>\n",
       "      <td>2853</td>\n",
       "      <td>54209</td>\n",
       "      <td>2016-04-19 17:00:00</td>\n",
       "      <td>2016-04-20 04:00:00</td>\n",
       "      <td>0</td>\n",
       "    </tr>\n",
       "    <tr>\n",
       "      <th>3</th>\n",
       "      <td>2853</td>\n",
       "      <td>95523</td>\n",
       "      <td>2016-04-19 17:00:00</td>\n",
       "      <td>2016-04-23 05:00:00</td>\n",
       "      <td>3</td>\n",
       "    </tr>\n",
       "    <tr>\n",
       "      <th>4</th>\n",
       "      <td>2853</td>\n",
       "      <td>134717</td>\n",
       "      <td>2016-04-19 17:00:00</td>\n",
       "      <td>2016-04-21 10:00:00</td>\n",
       "      <td>1</td>\n",
       "    </tr>\n",
       "    <tr>\n",
       "      <th>5</th>\n",
       "      <td>2853</td>\n",
       "      <td>164153</td>\n",
       "      <td>2016-04-19 17:00:00</td>\n",
       "      <td>2016-04-19 22:00:00</td>\n",
       "      <td>0</td>\n",
       "    </tr>\n",
       "    <tr>\n",
       "      <th>6</th>\n",
       "      <td>2853</td>\n",
       "      <td>170574</td>\n",
       "      <td>2016-04-19 17:00:00</td>\n",
       "      <td>2016-04-19 22:00:00</td>\n",
       "      <td>0</td>\n",
       "    </tr>\n",
       "    <tr>\n",
       "      <th>7</th>\n",
       "      <td>2853</td>\n",
       "      <td>173760</td>\n",
       "      <td>2016-04-19 17:00:00</td>\n",
       "      <td>2016-04-19 19:00:00</td>\n",
       "      <td>0</td>\n",
       "    </tr>\n",
       "    <tr>\n",
       "      <th>8</th>\n",
       "      <td>2853</td>\n",
       "      <td>177556</td>\n",
       "      <td>2016-04-19 17:00:00</td>\n",
       "      <td>2016-04-19 23:00:00</td>\n",
       "      <td>0</td>\n",
       "    </tr>\n",
       "    <tr>\n",
       "      <th>9</th>\n",
       "      <td>2853</td>\n",
       "      <td>208302</td>\n",
       "      <td>2016-04-19 17:00:00</td>\n",
       "      <td>2016-04-20 13:00:00</td>\n",
       "      <td>0</td>\n",
       "    </tr>\n",
       "  </tbody>\n",
       "</table>\n",
       "</div>"
      ],
      "text/plain": [
       "   nl_id  user_id           sent_date           open_date  days\n",
       "0   2853    25495 2016-04-19 17:00:00 2016-04-20 06:00:00     0\n",
       "1   2853    48910 2016-04-19 17:00:00 2016-04-19 20:00:00     0\n",
       "2   2853    54209 2016-04-19 17:00:00 2016-04-20 04:00:00     0\n",
       "3   2853    95523 2016-04-19 17:00:00 2016-04-23 05:00:00     3\n",
       "4   2853   134717 2016-04-19 17:00:00 2016-04-21 10:00:00     1\n",
       "5   2853   164153 2016-04-19 17:00:00 2016-04-19 22:00:00     0\n",
       "6   2853   170574 2016-04-19 17:00:00 2016-04-19 22:00:00     0\n",
       "7   2853   173760 2016-04-19 17:00:00 2016-04-19 19:00:00     0\n",
       "8   2853   177556 2016-04-19 17:00:00 2016-04-19 23:00:00     0\n",
       "9   2853   208302 2016-04-19 17:00:00 2016-04-20 13:00:00     0"
      ]
     },
     "execution_count": 39,
     "metadata": {},
     "output_type": "execute_result"
    }
   ],
   "source": [
    "data22.head(10)"
   ]
  },
  {
   "cell_type": "code",
   "execution_count": 56,
   "metadata": {
    "collapsed": false
   },
   "outputs": [],
   "source": [
    "q = '''\n",
    "    select \n",
    "        nl_id,\n",
    "        days,\n",
    "        count()\n",
    "    from \n",
    "        data22\n",
    "    group by\n",
    "        nl_id,\n",
    "        days\n",
    "    '''\n",
    "\n",
    "data23 = pysqldf(q)"
   ]
  },
  {
   "cell_type": "code",
   "execution_count": 74,
   "metadata": {
    "collapsed": false
   },
   "outputs": [
    {
     "data": {
      "text/html": [
       "<div>\n",
       "<style>\n",
       "    .dataframe thead tr:only-child th {\n",
       "        text-align: right;\n",
       "    }\n",
       "\n",
       "    .dataframe thead th {\n",
       "        text-align: left;\n",
       "    }\n",
       "\n",
       "    .dataframe tbody tr th {\n",
       "        vertical-align: top;\n",
       "    }\n",
       "</style>\n",
       "<table border=\"1\" class=\"dataframe\">\n",
       "  <thead>\n",
       "    <tr style=\"text-align: right;\">\n",
       "      <th></th>\n",
       "      <th>nl_id</th>\n",
       "      <th>days</th>\n",
       "      <th>count()</th>\n",
       "    </tr>\n",
       "  </thead>\n",
       "  <tbody>\n",
       "    <tr>\n",
       "      <th>24</th>\n",
       "      <td>2885</td>\n",
       "      <td>0</td>\n",
       "      <td>5352</td>\n",
       "    </tr>\n",
       "    <tr>\n",
       "      <th>25</th>\n",
       "      <td>2885</td>\n",
       "      <td>1</td>\n",
       "      <td>389</td>\n",
       "    </tr>\n",
       "    <tr>\n",
       "      <th>26</th>\n",
       "      <td>2885</td>\n",
       "      <td>2</td>\n",
       "      <td>126</td>\n",
       "    </tr>\n",
       "    <tr>\n",
       "      <th>27</th>\n",
       "      <td>2885</td>\n",
       "      <td>3</td>\n",
       "      <td>63</td>\n",
       "    </tr>\n",
       "    <tr>\n",
       "      <th>28</th>\n",
       "      <td>2885</td>\n",
       "      <td>4</td>\n",
       "      <td>6</td>\n",
       "    </tr>\n",
       "    <tr>\n",
       "      <th>29</th>\n",
       "      <td>2912</td>\n",
       "      <td>-1</td>\n",
       "      <td>1</td>\n",
       "    </tr>\n",
       "    <tr>\n",
       "      <th>30</th>\n",
       "      <td>2912</td>\n",
       "      <td>0</td>\n",
       "      <td>2227</td>\n",
       "    </tr>\n",
       "  </tbody>\n",
       "</table>\n",
       "</div>"
      ],
      "text/plain": [
       "    nl_id  days  count()\n",
       "24   2885     0     5352\n",
       "25   2885     1      389\n",
       "26   2885     2      126\n",
       "27   2885     3       63\n",
       "28   2885     4        6\n",
       "29   2912    -1        1\n",
       "30   2912     0     2227"
      ]
     },
     "execution_count": 74,
     "metadata": {},
     "output_type": "execute_result"
    }
   ],
   "source": [
    "data23[24:40]"
   ]
  },
  {
   "cell_type": "code",
   "execution_count": 61,
   "metadata": {
    "collapsed": false
   },
   "outputs": [
    {
     "data": {
      "text/html": [
       "<div>\n",
       "<style>\n",
       "    .dataframe thead tr:only-child th {\n",
       "        text-align: right;\n",
       "    }\n",
       "\n",
       "    .dataframe thead th {\n",
       "        text-align: left;\n",
       "    }\n",
       "\n",
       "    .dataframe tbody tr th {\n",
       "        vertical-align: top;\n",
       "    }\n",
       "</style>\n",
       "<table border=\"1\" class=\"dataframe\">\n",
       "  <thead>\n",
       "    <tr style=\"text-align: right;\">\n",
       "      <th></th>\n",
       "      <th>nl_id</th>\n",
       "      <th>received</th>\n",
       "      <th>open</th>\n",
       "    </tr>\n",
       "  </thead>\n",
       "  <tbody>\n",
       "    <tr>\n",
       "      <th>0</th>\n",
       "      <td>2853</td>\n",
       "      <td>31401</td>\n",
       "      <td>6171</td>\n",
       "    </tr>\n",
       "    <tr>\n",
       "      <th>1</th>\n",
       "      <td>2873</td>\n",
       "      <td>31610</td>\n",
       "      <td>6532</td>\n",
       "    </tr>\n",
       "    <tr>\n",
       "      <th>2</th>\n",
       "      <td>2885</td>\n",
       "      <td>31866</td>\n",
       "      <td>5940</td>\n",
       "    </tr>\n",
       "    <tr>\n",
       "      <th>3</th>\n",
       "      <td>2912</td>\n",
       "      <td>32178</td>\n",
       "      <td>2228</td>\n",
       "    </tr>\n",
       "  </tbody>\n",
       "</table>\n",
       "</div>"
      ],
      "text/plain": [
       "   nl_id  received  open\n",
       "0   2853     31401  6171\n",
       "1   2873     31610  6532\n",
       "2   2885     31866  5940\n",
       "3   2912     32178  2228"
      ]
     },
     "execution_count": 61,
     "metadata": {},
     "output_type": "execute_result"
    }
   ],
   "source": [
    "data0.head()"
   ]
  },
  {
   "cell_type": "code",
   "execution_count": 68,
   "metadata": {
    "collapsed": false
   },
   "outputs": [
    {
     "data": {
      "text/plain": [
       "1    0.862097\n",
       "2    0.058661\n",
       "3    0.019770\n",
       "4    0.013936\n",
       "5    0.014584\n",
       "6    0.011343\n",
       "7    0.007940\n",
       "Name: count(), dtype: float64"
      ]
     },
     "execution_count": 68,
     "metadata": {},
     "output_type": "execute_result"
    }
   ],
   "source": [
    "# Newsletter = 2853\n",
    "a = data23['count()'][1:8] / data0.open[0]\n",
    "a"
   ]
  },
  {
   "cell_type": "code",
   "execution_count": 73,
   "metadata": {
    "collapsed": false,
    "scrolled": true
   },
   "outputs": [
    {
     "data": {
      "text/plain": [
       "15    0.785517\n",
       "16    0.144825\n",
       "17    0.035364\n",
       "18    0.015462\n",
       "19    0.007961\n",
       "20    0.005818\n",
       "21    0.003827\n",
       "Name: count(), dtype: float64"
      ]
     },
     "execution_count": 73,
     "metadata": {},
     "output_type": "execute_result"
    }
   ],
   "source": [
    "# Newsletter = 2873\n",
    "b = data23['count()'][15:22] / data0.open[1]\n",
    "\n",
    "b"
   ]
  },
  {
   "cell_type": "code",
   "execution_count": 75,
   "metadata": {
    "collapsed": false
   },
   "outputs": [
    {
     "data": {
      "text/plain": [
       "24    0.901010\n",
       "25    0.065488\n",
       "26    0.021212\n",
       "27    0.010606\n",
       "28    0.001010\n",
       "Name: count(), dtype: float64"
      ]
     },
     "execution_count": 75,
     "metadata": {},
     "output_type": "execute_result"
    }
   ],
   "source": [
    "# Newsletter = 2885\n",
    "c = data23['count()'][24:29] / data0.open[2]\n",
    "\n",
    "c"
   ]
  },
  {
   "cell_type": "code",
   "execution_count": 86,
   "metadata": {
    "collapsed": false
   },
   "outputs": [
    {
     "data": {
      "text/plain": [
       "0.99955116696588864"
      ]
     },
     "execution_count": 86,
     "metadata": {},
     "output_type": "execute_result"
    }
   ],
   "source": [
    "# Newsletter = 2912\n",
    "from __future__ import division\n",
    "d = data23['count()'][30] / data0.open[3]\n",
    "d"
   ]
  },
  {
   "cell_type": "markdown",
   "metadata": {},
   "source": [
    "### Visualization"
   ]
  },
  {
   "cell_type": "code",
   "execution_count": 88,
   "metadata": {
    "collapsed": false
   },
   "outputs": [],
   "source": [
    "import matplotlib.pyplot as plt\n",
    "%matplotlib inline"
   ]
  },
  {
   "cell_type": "code",
   "execution_count": 111,
   "metadata": {
    "collapsed": false
   },
   "outputs": [
    {
     "data": {
      "text/plain": [
       "<matplotlib.text.Text at 0x1237e4a50>"
      ]
     },
     "execution_count": 111,
     "metadata": {},
     "output_type": "execute_result"
    },
    {
     "data": {
      "image/png": "[encoded data removed]",
      "text/plain": [
       "<matplotlib.figure.Figure at 0x1236c6250>"
      ]
     },
     "metadata": {},
     "output_type": "display_data"
    }
   ],
   "source": [
    "fig, ax = plt.subplots()\n",
    "x=[1,2,3,4,5,6,7]\n",
    "ax.bar(x,a)\n",
    "ax.set_xlabel('open email within days')\n",
    "ax.set_ylabel('percentage users opened the email')\n",
    "ax.set_title('Newsletter=2853')"
   ]
  },
  {
   "cell_type": "code",
   "execution_count": 110,
   "metadata": {
    "collapsed": false
   },
   "outputs": [
    {
     "data": {
      "text/plain": [
       "<matplotlib.text.Text at 0x122362910>"
      ]
     },
     "execution_count": 110,
     "metadata": {},
     "output_type": "execute_result"
    },
    {
     "data": {
      "image/png": "[encoded data removed]",
      "text/plain": [
       "<matplotlib.figure.Figure at 0x1221de350>"
      ]
     },
     "metadata": {},
     "output_type": "display_data"
    }
   ],
   "source": [
    "fig, ax = plt.subplots()\n",
    "x=[1,2,3,4,5,6,7]\n",
    "ax.bar(x,b)\n",
    "ax.set_xlabel('open email within days')\n",
    "ax.set_ylabel('percentage users opened the email')\n",
    "ax.set_title('Newsletter=2873')"
   ]
  },
  {
   "cell_type": "code",
   "execution_count": 108,
   "metadata": {
    "collapsed": false
   },
   "outputs": [
    {
     "data": {
      "text/plain": [
       "<matplotlib.text.Text at 0x121c121d0>"
      ]
     },
     "execution_count": 108,
     "metadata": {},
     "output_type": "execute_result"
    },
    {
     "data": {
      "image/png": "[encoded data removed]",
      "text/plain": [
       "<matplotlib.figure.Figure at 0x1314e0b10>"
      ]
     },
     "metadata": {},
     "output_type": "display_data"
    }
   ],
   "source": [
    "fig, ax = plt.subplots()\n",
    "x=[1,2,3,4,5]\n",
    "ax.bar(x,c)\n",
    "ax.set_xlabel('open email within days')\n",
    "ax.set_ylabel('percentage users opened the email')\n",
    "ax.set_title('Newsletter=2885')"
   ]
  },
  {
   "cell_type": "code",
   "execution_count": 133,
   "metadata": {
    "collapsed": false
   },
   "outputs": [],
   "source": [
    "import numpy as np\n",
    "d = np.append(d,0)"
   ]
  },
  {
   "cell_type": "code",
   "execution_count": 145,
   "metadata": {
    "collapsed": false
   },
   "outputs": [
    {
     "data": {
      "text/plain": [
       "(0, 1.2)"
      ]
     },
     "execution_count": 145,
     "metadata": {},
     "output_type": "execute_result"
    },
    {
     "data": {
      "image/png": "[encoded data removed]",
      "text/plain": [
       "<matplotlib.figure.Figure at 0x128bd0b50>"
      ]
     },
     "metadata": {},
     "output_type": "display_data"
    }
   ],
   "source": [
    "fig, ax = plt.subplots(figsize=(6,4))\n",
    "x=(1,2,3)\n",
    "ax.bar(x,d)\n",
    "ax.set_xlabel('open email within days')\n",
    "ax.set_ylabel('percentage users opened the email')\n",
    "ax.set_title('Newsletter=2912')\n",
    "ax.set_ylim(0,1.2)\n"
   ]
  },
  {
   "cell_type": "markdown",
   "metadata": {},
   "source": [
    "<br>"
   ]
  },
  {
   "cell_type": "markdown",
   "metadata": {},
   "source": [
    "### 3. Make a graph of the CTRs by link position for nl_id 2873 and 2885. Visualize the results for each newsletter.\n"
   ]
  },
  {
   "cell_type": "code",
   "execution_count": 146,
   "metadata": {
    "collapsed": true
   },
   "outputs": [],
   "source": [
    "data2 = pd.read_csv('data2.csv')"
   ]
  },
  {
   "cell_type": "code",
   "execution_count": 147,
   "metadata": {
    "collapsed": false
   },
   "outputs": [
    {
     "data": {
      "text/html": [
       "<div>\n",
       "<style>\n",
       "    .dataframe thead tr:only-child th {\n",
       "        text-align: right;\n",
       "    }\n",
       "\n",
       "    .dataframe thead th {\n",
       "        text-align: left;\n",
       "    }\n",
       "\n",
       "    .dataframe tbody tr th {\n",
       "        vertical-align: top;\n",
       "    }\n",
       "</style>\n",
       "<table border=\"1\" class=\"dataframe\">\n",
       "  <thead>\n",
       "    <tr style=\"text-align: right;\">\n",
       "      <th></th>\n",
       "      <th>ts</th>\n",
       "      <th>nl_id</th>\n",
       "      <th>user_id</th>\n",
       "      <th>dt</th>\n",
       "      <th>hr</th>\n",
       "      <th>event_type</th>\n",
       "      <th>event_type_param</th>\n",
       "    </tr>\n",
       "  </thead>\n",
       "  <tbody>\n",
       "    <tr>\n",
       "      <th>0</th>\n",
       "      <td>1461110419</td>\n",
       "      <td>2853</td>\n",
       "      <td>4551</td>\n",
       "      <td>4/19/16</td>\n",
       "      <td>17</td>\n",
       "      <td>nlsent</td>\n",
       "      <td>0</td>\n",
       "    </tr>\n",
       "    <tr>\n",
       "      <th>1</th>\n",
       "      <td>1461715220</td>\n",
       "      <td>2885</td>\n",
       "      <td>4551</td>\n",
       "      <td>4/26/16</td>\n",
       "      <td>17</td>\n",
       "      <td>nlsent</td>\n",
       "      <td>0</td>\n",
       "    </tr>\n",
       "    <tr>\n",
       "      <th>2</th>\n",
       "      <td>1461456022</td>\n",
       "      <td>2873</td>\n",
       "      <td>4551</td>\n",
       "      <td>4/23/16</td>\n",
       "      <td>17</td>\n",
       "      <td>nlsent</td>\n",
       "      <td>0</td>\n",
       "    </tr>\n",
       "    <tr>\n",
       "      <th>3</th>\n",
       "      <td>1461110419</td>\n",
       "      <td>2853</td>\n",
       "      <td>6159</td>\n",
       "      <td>4/19/16</td>\n",
       "      <td>17</td>\n",
       "      <td>nlsent</td>\n",
       "      <td>0</td>\n",
       "    </tr>\n",
       "    <tr>\n",
       "      <th>4</th>\n",
       "      <td>1461715220</td>\n",
       "      <td>2885</td>\n",
       "      <td>6159</td>\n",
       "      <td>4/26/16</td>\n",
       "      <td>17</td>\n",
       "      <td>nlsent</td>\n",
       "      <td>0</td>\n",
       "    </tr>\n",
       "  </tbody>\n",
       "</table>\n",
       "</div>"
      ],
      "text/plain": [
       "           ts  nl_id  user_id       dt  hr event_type event_type_param\n",
       "0  1461110419   2853     4551  4/19/16  17     nlsent                0\n",
       "1  1461715220   2885     4551  4/26/16  17     nlsent                0\n",
       "2  1461456022   2873     4551  4/23/16  17     nlsent                0\n",
       "3  1461110419   2853     6159  4/19/16  17     nlsent                0\n",
       "4  1461715220   2885     6159  4/26/16  17     nlsent                0"
      ]
     },
     "execution_count": 147,
     "metadata": {},
     "output_type": "execute_result"
    }
   ],
   "source": [
    "data2.head()"
   ]
  },
  {
   "cell_type": "code",
   "execution_count": 151,
   "metadata": {
    "collapsed": false
   },
   "outputs": [
    {
     "name": "stdout",
     "output_type": "stream",
     "text": [
      "   nl_id  opens\n",
      "0   2853   9019\n",
      "1   2873  11034\n",
      "2   2885   9401\n",
      "3   2912   3100\n"
     ]
    }
   ],
   "source": [
    "q = '''\n",
    "    select \n",
    "        nl_id,\n",
    "        count(user_id) as opens\n",
    "    from \n",
    "        data2\n",
    "    where \n",
    "        event_type='nlpv'\n",
    "    group by \n",
    "        nl_id\n",
    "    '''\n",
    "\n",
    "data30 = pysqldf(q)\n",
    "\n",
    "print data30"
   ]
  },
  {
   "cell_type": "code",
   "execution_count": 178,
   "metadata": {
    "collapsed": false
   },
   "outputs": [
    {
     "name": "stdout",
     "output_type": "stream",
     "text": [
      "    nl_id event_type_param  clicks\n",
      "12   2873              pv2   11034\n",
      "13   2885                0   31866\n",
      "14   2885               g0     304\n",
      "15   2885               g1     278\n",
      "16   2885               g2     269\n",
      "17   2885               g3     166\n",
      "18   2885               g4     200\n",
      "19   2885               g5      52\n",
      "20   2885               g6      74\n",
      "21   2885               g7      86\n",
      "22   2885              pv2    9401\n",
      "23   2912                0   32178\n",
      "24   2912               g0     124\n",
      "25   2912               g1     271\n",
      "26   2912               g2      60\n",
      "27   2912               g3      91\n",
      "28   2912               g4      16\n",
      "29   2912               g5      38\n",
      "30   2912               g6      29\n",
      "31   2912               g7      56\n",
      "32   2912              pv2    3100\n"
     ]
    }
   ],
   "source": [
    "q = '''\n",
    "    select\n",
    "        nl_id,\n",
    "        event_type_param,\n",
    "        count(event_type_param) as clicks\n",
    "    from \n",
    "        data2\n",
    "    group by\n",
    "        nl_id,\n",
    "        event_type_param\n",
    "    '''\n",
    "data31 = pysqldf(q)\n",
    "print data31[12:]"
   ]
  },
  {
   "cell_type": "markdown",
   "metadata": {},
   "source": [
    "#### For newsletter=2853 there is only click where is on 7th sale banner."
   ]
  },
  {
   "cell_type": "markdown",
   "metadata": {},
   "source": [
    "#### For newsletter=2873"
   ]
  },
  {
   "cell_type": "code",
   "execution_count": 155,
   "metadata": {
    "collapsed": true
   },
   "outputs": [],
   "source": [
    "b = data31.clicks[4:12] / data30.opens[1]"
   ]
  },
  {
   "cell_type": "code",
   "execution_count": 158,
   "metadata": {
    "collapsed": false
   },
   "outputs": [
    {
     "data": {
      "text/plain": [
       "4     0.083016\n",
       "5     0.021388\n",
       "6     0.016585\n",
       "7     0.030814\n",
       "8     0.011872\n",
       "9     0.004713\n",
       "10    0.010060\n",
       "11    0.007069\n",
       "Name: clicks, dtype: float64"
      ]
     },
     "execution_count": 158,
     "metadata": {},
     "output_type": "execute_result"
    }
   ],
   "source": [
    "b"
   ]
  },
  {
   "cell_type": "code",
   "execution_count": 192,
   "metadata": {
    "collapsed": false
   },
   "outputs": [
    {
     "data": {
      "image/png": "[encoded data removed]",
      "text/plain": [
       "<matplotlib.figure.Figure at 0x1291a3190>"
      ]
     },
     "metadata": {},
     "output_type": "display_data"
    }
   ],
   "source": [
    "fig, ax = plt.subplots()\n",
    "x=np.arange(8)\n",
    "width=0.35\n",
    "rects1 = ax.bar(x,b)\n",
    "ax.set_xlabel('sale banner')\n",
    "ax.set_ylabel('click through rate')\n",
    "ax.set_ylim(0,0.1)\n",
    "ax.set_title('Newsletter=2873')\n",
    "ax.set_xticks(x+width/2-0.1)\n",
    "ax.set_xticklabels(('g0','g1','g2','g3','g4','g5','g6','g7'))\n",
    "#annotate\n",
    "def autolabel(rects):\n",
    "    for rect in rects:\n",
    "        height=rect.get_height()\n",
    "        ax.text(rect.get_x()+rect.get_width()/2, 1.05*height, '{:.2%}'.format(height), ha='center', va='bottom')\n",
    "autolabel(rects1)"
   ]
  },
  {
   "cell_type": "markdown",
   "metadata": {},
   "source": [
    "#### For newsletter=2885"
   ]
  },
  {
   "cell_type": "code",
   "execution_count": 179,
   "metadata": {
    "collapsed": false
   },
   "outputs": [
    {
     "data": {
      "text/plain": [
       "14    0.032337\n",
       "15    0.029571\n",
       "16    0.028614\n",
       "17    0.017658\n",
       "18    0.021274\n",
       "19    0.005531\n",
       "20    0.007872\n",
       "21    0.009148\n",
       "Name: clicks, dtype: float64"
      ]
     },
     "execution_count": 179,
     "metadata": {},
     "output_type": "execute_result"
    }
   ],
   "source": [
    "c = data31.clicks[14:22] / data30.opens[2]\n",
    "c"
   ]
  },
  {
   "cell_type": "code",
   "execution_count": 191,
   "metadata": {
    "collapsed": false
   },
   "outputs": [
    {
     "data": {
      "image/png": "[encoded data removed]",
      "text/plain": [
       "<matplotlib.figure.Figure at 0x128a93e10>"
      ]
     },
     "metadata": {},
     "output_type": "display_data"
    }
   ],
   "source": [
    "fig, ax = plt.subplots()\n",
    "x=np.arange(8)\n",
    "width=0.35\n",
    "rects2 = ax.bar(x,c)\n",
    "ax.set_xlabel('sale banner')\n",
    "ax.set_ylabel('click through rate')\n",
    "ax.set_ylim(0,0.05)\n",
    "ax.set_title('Newsletter=2885')\n",
    "ax.set_xticks(x+width/2-0.1)\n",
    "ax.set_xticklabels(('g0','g1','g2','g3','g4','g5','g6','g7'))\n",
    "autolabel(rects2)"
   ]
  },
  {
   "cell_type": "markdown",
   "metadata": {},
   "source": [
    "#### For newsletter=2912"
   ]
  },
  {
   "cell_type": "code",
   "execution_count": 183,
   "metadata": {
    "collapsed": false
   },
   "outputs": [
    {
     "data": {
      "text/plain": [
       "24    0.040000\n",
       "25    0.087419\n",
       "26    0.019355\n",
       "27    0.029355\n",
       "28    0.005161\n",
       "29    0.012258\n",
       "30    0.009355\n",
       "31    0.018065\n",
       "Name: clicks, dtype: float64"
      ]
     },
     "execution_count": 183,
     "metadata": {},
     "output_type": "execute_result"
    }
   ],
   "source": [
    "d = data31.clicks[24:32] / data30.opens[3]\n",
    "d"
   ]
  },
  {
   "cell_type": "code",
   "execution_count": 190,
   "metadata": {
    "collapsed": false
   },
   "outputs": [
    {
     "data": {
      "image/png": "[encoded data removed]",
      "text/plain": [
       "<matplotlib.figure.Figure at 0x128971810>"
      ]
     },
     "metadata": {},
     "output_type": "display_data"
    }
   ],
   "source": [
    "fig, ax = plt.subplots()\n",
    "x=np.arange(8)\n",
    "width=0.35\n",
    "rects3 = ax.bar(x,d)\n",
    "ax.set_xlabel('sale banner')\n",
    "ax.set_ylabel('click through rate')\n",
    "ax.set_ylim(0,0.10)\n",
    "ax.set_title('Newsletter=2912')\n",
    "ax.set_xticks(x+width/2-0.1)\n",
    "ax.set_xticklabels(('g0','g1','g2','g3','g4','g5','g6','g7'))\n",
    "autolabel(rects3)"
   ]
  },
  {
   "cell_type": "markdown",
   "metadata": {},
   "source": [
    "### 4.\tWhat other metrics we can use to measure newsletter performance/quality? For each metric please state why it is important in one sentence.\n"
   ]
  },
  {
   "cell_type": "markdown",
   "metadata": {},
   "source": [
    "**Conversion Rate:** Percentage of people who click the banner ad and buy the product.   \n",
    "**Perecentage Delievered:** We may send to the wrong address or ISP may block us.  \n",
    "**Percentage Unsubsciribed:** If we sent 5 emails to a customer everyday, he may get agitated and unsubscribe from you.  \n",
    "**List of Fatigue:** Are we sendig too many eamils to the same person over the course like two months?   \n",
    "**Percentage Forwarded:** In digital marketing, it's about reach. Maybe a coupon I can't use and I give it to my friends who want to buy sth."
   ]
  },
  {
   "cell_type": "markdown",
   "metadata": {},
   "source": []
  },
  {
   "cell_type": "markdown",
   "metadata": {},
   "source": []
  },
  {
   "cell_type": "markdown",
   "metadata": {},
   "source": []
  }
 ],
 "metadata": {
  "anaconda-cloud": {},
  "kernelspec": {
   "display_name": "Python [conda root]",
   "language": "python",
   "name": "conda-root-py"
  },
  "language_info": {
   "codemirror_mode": {
    "name": "ipython",
    "version": 2
   },
   "file_extension": ".py",
   "mimetype": "text/x-python",
   "name": "python",
   "nbconvert_exporter": "python",
   "pygments_lexer": "ipython2",
   "version": "2.7.13"
  }
 },
 "nbformat": 4,
 "nbformat_minor": 1
}
